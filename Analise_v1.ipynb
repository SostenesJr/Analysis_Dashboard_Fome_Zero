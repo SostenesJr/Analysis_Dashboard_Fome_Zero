{
 "cells": [
  {
   "cell_type": "code",
   "execution_count": 11,
   "metadata": {
    "ExecuteTime": {
     "end_time": "2024-02-06T18:55:53.560669500Z",
     "start_time": "2024-02-06T18:55:53.551498700Z"
    }
   },
   "outputs": [],
   "source": [
    "import pandas as pd\n",
    "import limpeza as lp"
   ]
  },
  {
   "cell_type": "code",
   "execution_count": 12,
   "metadata": {
    "ExecuteTime": {
     "end_time": "2024-02-06T18:55:54.823643Z",
     "start_time": "2024-02-06T18:55:54.774093500Z"
    }
   },
   "outputs": [],
   "source": [
    "dataframe = pd.read_csv(\"zomato.csv\")"
   ]
  },
  {
   "cell_type": "code",
   "execution_count": 15,
   "metadata": {
    "ExecuteTime": {
     "end_time": "2024-02-06T18:55:55.998840300Z",
     "start_time": "2024-02-06T18:55:55.946486300Z"
    }
   },
   "outputs": [
    {
     "data": {
      "text/html": [
       "<div>\n",
       "<style scoped>\n",
       "    .dataframe tbody tr th:only-of-type {\n",
       "        vertical-align: middle;\n",
       "    }\n",
       "\n",
       "    .dataframe tbody tr th {\n",
       "        vertical-align: top;\n",
       "    }\n",
       "\n",
       "    .dataframe thead th {\n",
       "        text-align: right;\n",
       "    }\n",
       "</style>\n",
       "<table border=\"1\" class=\"dataframe\">\n",
       "  <thead>\n",
       "    <tr style=\"text-align: right;\">\n",
       "      <th></th>\n",
       "      <th>restaurant_id</th>\n",
       "      <th>country_code</th>\n",
       "      <th>longitude</th>\n",
       "      <th>latitude</th>\n",
       "      <th>average_cost_for_two</th>\n",
       "      <th>has_table_booking</th>\n",
       "      <th>has_online_delivery</th>\n",
       "      <th>is_delivering_now</th>\n",
       "      <th>switch_to_order_menu</th>\n",
       "      <th>price_range</th>\n",
       "      <th>aggregate_rating</th>\n",
       "      <th>votes</th>\n",
       "    </tr>\n",
       "  </thead>\n",
       "  <tbody>\n",
       "    <tr>\n",
       "      <th>count</th>\n",
       "      <td>6.942000e+03</td>\n",
       "      <td>6942.000000</td>\n",
       "      <td>6942.000000</td>\n",
       "      <td>6942.000000</td>\n",
       "      <td>6.942000e+03</td>\n",
       "      <td>6942.000000</td>\n",
       "      <td>6942.000000</td>\n",
       "      <td>6942.000000</td>\n",
       "      <td>6942.0</td>\n",
       "      <td>6942.000000</td>\n",
       "      <td>6942.000000</td>\n",
       "      <td>6942.000000</td>\n",
       "    </tr>\n",
       "    <tr>\n",
       "      <th>mean</th>\n",
       "      <td>1.076193e+07</td>\n",
       "      <td>95.785941</td>\n",
       "      <td>31.441225</td>\n",
       "      <td>19.434945</td>\n",
       "      <td>7.506579e+03</td>\n",
       "      <td>0.060501</td>\n",
       "      <td>0.349755</td>\n",
       "      <td>0.174589</td>\n",
       "      <td>0.0</td>\n",
       "      <td>2.632383</td>\n",
       "      <td>4.126765</td>\n",
       "      <td>604.384039</td>\n",
       "    </tr>\n",
       "    <tr>\n",
       "      <th>std</th>\n",
       "      <td>7.037688e+06</td>\n",
       "      <td>99.299120</td>\n",
       "      <td>79.059108</td>\n",
       "      <td>23.499885</td>\n",
       "      <td>3.022515e+05</td>\n",
       "      <td>0.238430</td>\n",
       "      <td>0.476927</td>\n",
       "      <td>0.379643</td>\n",
       "      <td>0.0</td>\n",
       "      <td>0.966060</td>\n",
       "      <td>0.674754</td>\n",
       "      <td>1115.744044</td>\n",
       "    </tr>\n",
       "    <tr>\n",
       "      <th>min</th>\n",
       "      <td>5.490000e+02</td>\n",
       "      <td>1.000000</td>\n",
       "      <td>-122.700455</td>\n",
       "      <td>-41.330428</td>\n",
       "      <td>0.000000e+00</td>\n",
       "      <td>0.000000</td>\n",
       "      <td>0.000000</td>\n",
       "      <td>0.000000</td>\n",
       "      <td>0.0</td>\n",
       "      <td>1.000000</td>\n",
       "      <td>0.000000</td>\n",
       "      <td>0.000000</td>\n",
       "    </tr>\n",
       "    <tr>\n",
       "      <th>25%</th>\n",
       "      <td>3.600075e+06</td>\n",
       "      <td>1.000000</td>\n",
       "      <td>-43.225469</td>\n",
       "      <td>12.902646</td>\n",
       "      <td>6.000000e+01</td>\n",
       "      <td>0.000000</td>\n",
       "      <td>0.000000</td>\n",
       "      <td>0.000000</td>\n",
       "      <td>0.0</td>\n",
       "      <td>2.000000</td>\n",
       "      <td>4.000000</td>\n",
       "      <td>150.000000</td>\n",
       "    </tr>\n",
       "    <tr>\n",
       "      <th>50%</th>\n",
       "      <td>7.900186e+06</td>\n",
       "      <td>30.000000</td>\n",
       "      <td>73.758624</td>\n",
       "      <td>25.270021</td>\n",
       "      <td>2.500000e+02</td>\n",
       "      <td>0.000000</td>\n",
       "      <td>0.000000</td>\n",
       "      <td>0.000000</td>\n",
       "      <td>0.0</td>\n",
       "      <td>3.000000</td>\n",
       "      <td>4.200000</td>\n",
       "      <td>328.000000</td>\n",
       "    </tr>\n",
       "    <tr>\n",
       "      <th>75%</th>\n",
       "      <td>1.714692e+07</td>\n",
       "      <td>215.000000</td>\n",
       "      <td>79.832568</td>\n",
       "      <td>32.749289</td>\n",
       "      <td>6.000000e+02</td>\n",
       "      <td>0.000000</td>\n",
       "      <td>1.000000</td>\n",
       "      <td>0.000000</td>\n",
       "      <td>0.0</td>\n",
       "      <td>3.000000</td>\n",
       "      <td>4.500000</td>\n",
       "      <td>649.000000</td>\n",
       "    </tr>\n",
       "    <tr>\n",
       "      <th>max</th>\n",
       "      <td>1.904028e+07</td>\n",
       "      <td>216.000000</td>\n",
       "      <td>175.310552</td>\n",
       "      <td>55.976980</td>\n",
       "      <td>2.500002e+07</td>\n",
       "      <td>1.000000</td>\n",
       "      <td>1.000000</td>\n",
       "      <td>1.000000</td>\n",
       "      <td>0.0</td>\n",
       "      <td>4.000000</td>\n",
       "      <td>4.900000</td>\n",
       "      <td>41333.000000</td>\n",
       "    </tr>\n",
       "  </tbody>\n",
       "</table>\n",
       "</div>"
      ],
      "text/plain": [
       "       restaurant_id  country_code    longitude     latitude  \\\n",
       "count   6.942000e+03   6942.000000  6942.000000  6942.000000   \n",
       "mean    1.076193e+07     95.785941    31.441225    19.434945   \n",
       "std     7.037688e+06     99.299120    79.059108    23.499885   \n",
       "min     5.490000e+02      1.000000  -122.700455   -41.330428   \n",
       "25%     3.600075e+06      1.000000   -43.225469    12.902646   \n",
       "50%     7.900186e+06     30.000000    73.758624    25.270021   \n",
       "75%     1.714692e+07    215.000000    79.832568    32.749289   \n",
       "max     1.904028e+07    216.000000   175.310552    55.976980   \n",
       "\n",
       "       average_cost_for_two  has_table_booking  has_online_delivery  \\\n",
       "count          6.942000e+03        6942.000000          6942.000000   \n",
       "mean           7.506579e+03           0.060501             0.349755   \n",
       "std            3.022515e+05           0.238430             0.476927   \n",
       "min            0.000000e+00           0.000000             0.000000   \n",
       "25%            6.000000e+01           0.000000             0.000000   \n",
       "50%            2.500000e+02           0.000000             0.000000   \n",
       "75%            6.000000e+02           0.000000             1.000000   \n",
       "max            2.500002e+07           1.000000             1.000000   \n",
       "\n",
       "       is_delivering_now  switch_to_order_menu  price_range  aggregate_rating  \\\n",
       "count        6942.000000                6942.0  6942.000000       6942.000000   \n",
       "mean            0.174589                   0.0     2.632383          4.126765   \n",
       "std             0.379643                   0.0     0.966060          0.674754   \n",
       "min             0.000000                   0.0     1.000000          0.000000   \n",
       "25%             0.000000                   0.0     2.000000          4.000000   \n",
       "50%             0.000000                   0.0     3.000000          4.200000   \n",
       "75%             0.000000                   0.0     3.000000          4.500000   \n",
       "max             1.000000                   0.0     4.000000          4.900000   \n",
       "\n",
       "              votes  \n",
       "count   6942.000000  \n",
       "mean     604.384039  \n",
       "std     1115.744044  \n",
       "min        0.000000  \n",
       "25%      150.000000  \n",
       "50%      328.000000  \n",
       "75%      649.000000  \n",
       "max    41333.000000  "
      ]
     },
     "execution_count": 15,
     "metadata": {},
     "output_type": "execute_result"
    }
   ],
   "source": [
    "df1 = lp.Clean_code(dataframe)\n",
    "df1.describe()"
   ]
  },
  {
   "cell_type": "markdown",
   "metadata": {
    "collapsed": false
   },
   "source": [
    "# Visao Geral"
   ]
  },
  {
   "cell_type": "markdown",
   "metadata": {
    "collapsed": false
   },
   "source": [
    "##  1. Quantos restaurantes unicos foram resgitrados ? "
   ]
  },
  {
   "cell_type": "code",
   "execution_count": 13,
   "metadata": {
    "ExecuteTime": {
     "end_time": "2024-01-31T21:22:29.564948700Z",
     "start_time": "2024-01-31T21:22:29.557696400Z"
    },
    "collapsed": false
   },
   "outputs": [
    {
     "data": {
      "text/plain": [
       "5914"
      ]
     },
     "execution_count": 13,
     "metadata": {},
     "output_type": "execute_result"
    }
   ],
   "source": [
    "vl_uni = df1['restaurant_name'].nunique()\n",
    "vl_uni"
   ]
  },
  {
   "cell_type": "markdown",
   "metadata": {
    "collapsed": false
   },
   "source": [
    "## 2. Quantos paises unicos estao registrados?"
   ]
  },
  {
   "cell_type": "code",
   "execution_count": 14,
   "metadata": {
    "ExecuteTime": {
     "end_time": "2024-01-31T21:23:55.492044200Z",
     "start_time": "2024-01-31T21:23:55.478842900Z"
    },
    "collapsed": false
   },
   "outputs": [
    {
     "data": {
      "text/plain": [
       "15"
      ]
     },
     "execution_count": 14,
     "metadata": {},
     "output_type": "execute_result"
    }
   ],
   "source": [
    "vl_countries = df1['countries'].nunique()\n",
    "vl_countries"
   ]
  },
  {
   "cell_type": "markdown",
   "metadata": {
    "collapsed": false
   },
   "source": [
    "## 3. Quantas cidades unicas estao registradas?"
   ]
  },
  {
   "cell_type": "code",
   "execution_count": 15,
   "metadata": {
    "ExecuteTime": {
     "end_time": "2024-01-31T21:26:28.448057900Z",
     "start_time": "2024-01-31T21:26:28.438669100Z"
    },
    "collapsed": false
   },
   "outputs": [
    {
     "data": {
      "text/plain": [
       "125"
      ]
     },
     "execution_count": 15,
     "metadata": {},
     "output_type": "execute_result"
    }
   ],
   "source": [
    "vl_city = df1['city'].nunique()\n",
    "vl_city"
   ]
  },
  {
   "cell_type": "markdown",
   "metadata": {
    "collapsed": false
   },
   "source": [
    "## 4. Qual é o total de avaliações feitas?"
   ]
  },
  {
   "cell_type": "code",
   "execution_count": 19,
   "metadata": {
    "ExecuteTime": {
     "end_time": "2024-01-31T21:29:18.006298800Z",
     "start_time": "2024-01-31T21:29:17.997266600Z"
    },
    "collapsed": false
   },
   "outputs": [
    {
     "data": {
      "text/plain": [
       "6942"
      ]
     },
     "execution_count": 19,
     "metadata": {},
     "output_type": "execute_result"
    }
   ],
   "source": [
    "vl_ranting = df1['aggregate_rating'].count()\n",
    "vl_ranting"
   ]
  },
  {
   "cell_type": "markdown",
   "metadata": {
    "collapsed": false
   },
   "source": [
    "## 5. Qual o total de tipos de culinaria registrados?"
   ]
  },
  {
   "cell_type": "code",
   "execution_count": 20,
   "metadata": {
    "ExecuteTime": {
     "end_time": "2024-01-31T21:30:28.308584300Z",
     "start_time": "2024-01-31T21:30:28.299553Z"
    },
    "collapsed": false
   },
   "outputs": [
    {
     "data": {
      "text/plain": [
       "166"
      ]
     },
     "execution_count": 20,
     "metadata": {},
     "output_type": "execute_result"
    }
   ],
   "source": [
    "vl_type = df1['cuisines'].nunique()\n",
    "vl_type"
   ]
  },
  {
   "cell_type": "markdown",
   "metadata": {
    "collapsed": false
   },
   "source": [
    "# Pais"
   ]
  },
  {
   "cell_type": "markdown",
   "metadata": {
    "collapsed": false
   },
   "source": [
    "## 1. Qual o nome do país que possui mais cidades registradas?"
   ]
  },
  {
   "cell_type": "code",
   "execution_count": 32,
   "metadata": {
    "ExecuteTime": {
     "end_time": "2024-01-31T21:44:57.426994Z",
     "start_time": "2024-01-31T21:44:57.414081800Z"
    },
    "collapsed": false
   },
   "outputs": [
    {
     "data": {
      "text/plain": [
       "countries\n",
       "India    3120\n",
       "Name: count, dtype: int64"
      ]
     },
     "execution_count": 32,
     "metadata": {},
     "output_type": "execute_result"
    }
   ],
   "source": []
  },
  {
   "cell_type": "markdown",
   "metadata": {
    "collapsed": false
   },
   "source": [
    "## 2. Qual o nome do país que possui mais restaurantes registrados?"
   ]
  },
  {
   "cell_type": "markdown",
   "metadata": {
    "collapsed": false
   },
   "source": [
    "## 3. Qual o nome do país que possui mais restaurantes com o nível de preço igual a 4 registrados?"
   ]
  },
  {
   "cell_type": "markdown",
   "metadata": {
    "collapsed": false
   },
   "source": [
    "## 4. Qual o nome do país que possui a maior quantidade de tipos de culinária distintos?"
   ]
  },
  {
   "cell_type": "markdown",
   "metadata": {
    "collapsed": false
   },
   "source": [
    "## 5. Qual o nome do país que possui a maior quantidade de avaliações feitas?"
   ]
  },
  {
   "cell_type": "markdown",
   "metadata": {
    "collapsed": false
   },
   "source": [
    "## 6. Qual o nome do país que possui a maior quantidade de restaurantes que fazem entrega?"
   ]
  },
  {
   "cell_type": "markdown",
   "metadata": {
    "collapsed": false
   },
   "source": [
    "## 7. Qual o nome do país que possui a maior quantidade de restaurantes que aceitam reservas?"
   ]
  },
  {
   "cell_type": "markdown",
   "metadata": {
    "collapsed": false
   },
   "source": [
    "## 8. Qual o nome do país que possui, na média, a maior quantidade de avaliações registrada?"
   ]
  },
  {
   "cell_type": "markdown",
   "metadata": {
    "collapsed": false
   },
   "source": [
    "## 9. Qual o nome do país que possui, na média, a maior nota média registrada?"
   ]
  },
  {
   "cell_type": "markdown",
   "metadata": {
    "collapsed": false
   },
   "source": [
    "## 10. Qual o nome do país que possui, na média, a menor nota média registrada?"
   ]
  },
  {
   "cell_type": "markdown",
   "metadata": {
    "collapsed": false
   },
   "source": [
    "## 11. Qual a média de preço de um prato para dois por país?"
   ]
  },
  {
   "cell_type": "code",
   "execution_count": null,
   "metadata": {
    "collapsed": false
   },
   "outputs": [],
   "source": []
  }
 ],
 "metadata": {
  "kernelspec": {
   "display_name": "Python 3",
   "language": "python",
   "name": "python3"
  },
  "language_info": {
   "codemirror_mode": {
    "name": "ipython",
    "version": 3
   },
   "file_extension": ".py",
   "mimetype": "text/x-python",
   "name": "python",
   "nbconvert_exporter": "python",
   "pygments_lexer": "ipython3",
   "version": "3.12.1"
  }
 },
 "nbformat": 4,
 "nbformat_minor": 2
}
